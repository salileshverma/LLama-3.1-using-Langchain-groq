{
 "cells": [
  {
   "cell_type": "code",
   "execution_count": 4,
   "id": "0045a639-7b92-4951-b0bb-6ad6b8245684",
   "metadata": {},
   "outputs": [
    {
     "name": "stdout",
     "output_type": "stream",
     "text": [
      "Collecting langchain-groq\n",
      "  Downloading langchain_groq-0.1.9-py3-none-any.whl.metadata (2.9 kB)\n",
      "Requirement already satisfied: groq<1,>=0.4.1 in /opt/anaconda3/lib/python3.11/site-packages (from langchain-groq) (0.11.0)\n",
      "Collecting langchain-core<0.3.0,>=0.2.26 (from langchain-groq)\n",
      "  Downloading langchain_core-0.2.38-py3-none-any.whl.metadata (6.2 kB)\n",
      "Requirement already satisfied: anyio<5,>=3.5.0 in /opt/anaconda3/lib/python3.11/site-packages (from groq<1,>=0.4.1->langchain-groq) (4.2.0)\n",
      "Requirement already satisfied: distro<2,>=1.7.0 in /opt/anaconda3/lib/python3.11/site-packages (from groq<1,>=0.4.1->langchain-groq) (1.8.0)\n",
      "Requirement already satisfied: httpx<1,>=0.23.0 in /opt/anaconda3/lib/python3.11/site-packages (from groq<1,>=0.4.1->langchain-groq) (0.27.0)\n",
      "Requirement already satisfied: pydantic<3,>=1.9.0 in /opt/anaconda3/lib/python3.11/site-packages (from groq<1,>=0.4.1->langchain-groq) (1.10.12)\n",
      "Requirement already satisfied: sniffio in /opt/anaconda3/lib/python3.11/site-packages (from groq<1,>=0.4.1->langchain-groq) (1.3.0)\n",
      "Requirement already satisfied: typing-extensions<5,>=4.7 in /opt/anaconda3/lib/python3.11/site-packages (from groq<1,>=0.4.1->langchain-groq) (4.9.0)\n",
      "Requirement already satisfied: PyYAML>=5.3 in /opt/anaconda3/lib/python3.11/site-packages (from langchain-core<0.3.0,>=0.2.26->langchain-groq) (6.0.1)\n",
      "Requirement already satisfied: jsonpatch<2.0,>=1.33 in /opt/anaconda3/lib/python3.11/site-packages (from langchain-core<0.3.0,>=0.2.26->langchain-groq) (1.33)\n",
      "Requirement already satisfied: langsmith<0.2.0,>=0.1.75 in /opt/anaconda3/lib/python3.11/site-packages (from langchain-core<0.3.0,>=0.2.26->langchain-groq) (0.1.82)\n",
      "Requirement already satisfied: packaging<25,>=23.2 in /opt/anaconda3/lib/python3.11/site-packages (from langchain-core<0.3.0,>=0.2.26->langchain-groq) (23.2)\n",
      "Requirement already satisfied: tenacity!=8.4.0,<9.0.0,>=8.1.0 in /opt/anaconda3/lib/python3.11/site-packages (from langchain-core<0.3.0,>=0.2.26->langchain-groq) (8.2.2)\n",
      "Requirement already satisfied: idna>=2.8 in /opt/anaconda3/lib/python3.11/site-packages (from anyio<5,>=3.5.0->groq<1,>=0.4.1->langchain-groq) (3.4)\n",
      "Requirement already satisfied: certifi in /opt/anaconda3/lib/python3.11/site-packages (from httpx<1,>=0.23.0->groq<1,>=0.4.1->langchain-groq) (2024.6.2)\n",
      "Requirement already satisfied: httpcore==1.* in /opt/anaconda3/lib/python3.11/site-packages (from httpx<1,>=0.23.0->groq<1,>=0.4.1->langchain-groq) (1.0.5)\n",
      "Requirement already satisfied: h11<0.15,>=0.13 in /opt/anaconda3/lib/python3.11/site-packages (from httpcore==1.*->httpx<1,>=0.23.0->groq<1,>=0.4.1->langchain-groq) (0.14.0)\n",
      "Requirement already satisfied: jsonpointer>=1.9 in /opt/anaconda3/lib/python3.11/site-packages (from jsonpatch<2.0,>=1.33->langchain-core<0.3.0,>=0.2.26->langchain-groq) (2.1)\n",
      "Requirement already satisfied: orjson<4.0.0,>=3.9.14 in /opt/anaconda3/lib/python3.11/site-packages (from langsmith<0.2.0,>=0.1.75->langchain-core<0.3.0,>=0.2.26->langchain-groq) (3.10.1)\n",
      "Requirement already satisfied: requests<3,>=2 in /opt/anaconda3/lib/python3.11/site-packages (from langsmith<0.2.0,>=0.1.75->langchain-core<0.3.0,>=0.2.26->langchain-groq) (2.31.0)\n",
      "Requirement already satisfied: charset-normalizer<4,>=2 in /opt/anaconda3/lib/python3.11/site-packages (from requests<3,>=2->langsmith<0.2.0,>=0.1.75->langchain-core<0.3.0,>=0.2.26->langchain-groq) (2.0.4)\n",
      "Requirement already satisfied: urllib3<3,>=1.21.1 in /opt/anaconda3/lib/python3.11/site-packages (from requests<3,>=2->langsmith<0.2.0,>=0.1.75->langchain-core<0.3.0,>=0.2.26->langchain-groq) (1.26.18)\n",
      "Downloading langchain_groq-0.1.9-py3-none-any.whl (14 kB)\n",
      "Downloading langchain_core-0.2.38-py3-none-any.whl (396 kB)\n",
      "\u001b[2K   \u001b[90m━━━━━━━━━━━━━━━━━━━━━━━━━━━━━━━━━━━━━━━━\u001b[0m \u001b[32m396.4/396.4 kB\u001b[0m \u001b[31m12.7 MB/s\u001b[0m eta \u001b[36m0:00:00\u001b[0m\n",
      "\u001b[?25hInstalling collected packages: langchain-core, langchain-groq\n",
      "  Attempting uninstall: langchain-core\n",
      "    Found existing installation: langchain-core 0.2.10\n",
      "    Uninstalling langchain-core-0.2.10:\n",
      "      Successfully uninstalled langchain-core-0.2.10\n",
      "Successfully installed langchain-core-0.2.38 langchain-groq-0.1.9\n",
      "Note: you may need to restart the kernel to use updated packages.\n"
     ]
    }
   ],
   "source": [
    "pip install langchain-groq"
   ]
  },
  {
   "cell_type": "code",
   "execution_count": 5,
   "id": "673f22fa-eea3-4e3a-8681-96005865db70",
   "metadata": {},
   "outputs": [],
   "source": [
    "import os"
   ]
  },
  {
   "cell_type": "code",
   "execution_count": 6,
   "id": "bed4c009-cda5-4967-9bdd-af4b9100e3fa",
   "metadata": {},
   "outputs": [],
   "source": [
    "os.environ[\"GROQ_API_KEY\"]=\"#\""
   ]
  },
  {
   "cell_type": "code",
   "execution_count": 7,
   "id": "dc86b073-803c-4c46-8a6e-ff5b9041e5a8",
   "metadata": {},
   "outputs": [],
   "source": [
    "from langchain_groq import ChatGroq\n"
   ]
  },
  {
   "cell_type": "code",
   "execution_count": 8,
   "id": "a8cbd817-4d60-4538-8691-94dc2b99e591",
   "metadata": {},
   "outputs": [],
   "source": [
    "llm=ChatGroq(\n",
    "    model=\"llama-3.1-8b-instant\",\n",
    "    temperature=0\n",
    ")"
   ]
  },
  {
   "cell_type": "code",
   "execution_count": 9,
   "id": "2a8836b5-29dd-4c85-b539-da536a258365",
   "metadata": {},
   "outputs": [],
   "source": [
    "response=llm.invoke(\"What is Neural Network\")"
   ]
  },
  {
   "cell_type": "code",
   "execution_count": 10,
   "id": "b5a791bc-c696-42f5-912a-277ecce5cfea",
   "metadata": {},
   "outputs": [
    {
     "name": "stdout",
     "output_type": "stream",
     "text": [
      "A neural network is a computer system inspired by the structure and function of the human brain. It is a type of machine learning model that is designed to recognize patterns and make decisions based on data. Neural networks are composed of layers of interconnected nodes or \"neurons\" that process and transmit information.\n",
      "\n",
      "**Key Components of a Neural Network:**\n",
      "\n",
      "1. **Artificial Neurons (Nodes):** These are the basic building blocks of a neural network. Each node receives one or more inputs, performs a computation on those inputs, and then sends the output to other nodes.\n",
      "2. **Connections (Edges):** These are the links between nodes that allow them to communicate with each other.\n",
      "3. **Activation Functions:** These are mathematical functions that are applied to the output of each node to introduce non-linearity into the model.\n",
      "4. **Layers:** Neural networks are typically organized into multiple layers, including:\n",
      "\t* **Input Layer:** Receives the input data.\n",
      "\t* **Hidden Layers:** Process the input data and transform it into a more abstract representation.\n",
      "\t* **Output Layer:** Produces the final output of the model.\n",
      "\n",
      "**How Neural Networks Work:**\n",
      "\n",
      "1. **Training:** The neural network is trained on a dataset by adjusting the weights and biases of the connections between nodes to minimize the error between the predicted output and the actual output.\n",
      "2. **Forward Propagation:** The input data is passed through the network, and the output is calculated by applying the activation functions to the output of each node.\n",
      "3. **Backward Propagation:** The error between the predicted output and the actual output is calculated, and the weights and biases are adjusted to minimize the error.\n",
      "4. **Iteration:** The process of forward and backward propagation is repeated multiple times until the error is minimized.\n",
      "\n",
      "**Types of Neural Networks:**\n",
      "\n",
      "1. **Feedforward Neural Networks:** The simplest type of neural network, where the data flows only in one direction from input to output.\n",
      "2. **Recurrent Neural Networks (RNNs):** A type of neural network that uses feedback connections to allow the data to flow in a loop.\n",
      "3. **Convolutional Neural Networks (CNNs):** A type of neural network that uses convolutional and pooling layers to process data with grid-like topology, such as images.\n",
      "\n",
      "**Applications of Neural Networks:**\n",
      "\n",
      "1. **Image Recognition:** Neural networks can be used to recognize objects, scenes, and activities in images.\n",
      "2. **Speech Recognition:** Neural networks can be used to recognize spoken words and phrases.\n",
      "3. **Natural Language Processing (NLP):** Neural networks can be used to analyze and generate text.\n",
      "4. **Predictive Modeling:** Neural networks can be used to predict continuous values, such as stock prices or weather forecasts.\n",
      "\n",
      "**Advantages of Neural Networks:**\n",
      "\n",
      "1. **Ability to Learn:** Neural networks can learn from data and improve their performance over time.\n",
      "2. **Flexibility:** Neural networks can be used to solve a wide range of problems, from image recognition to speech recognition.\n",
      "3. **Scalability:** Neural networks can be scaled up to handle large datasets and complex problems.\n",
      "\n",
      "**Challenges of Neural Networks:**\n",
      "\n",
      "1. **Training Time:** Neural networks can take a long time to train, especially for large datasets.\n",
      "2. **Overfitting:** Neural networks can overfit the training data and fail to generalize to new data.\n",
      "3. **Interpretability:** Neural networks can be difficult to interpret and understand, making it challenging to debug and improve their performance.\n"
     ]
    }
   ],
   "source": [
    "output=response.content\n",
    "print(output)"
   ]
  },
  {
   "cell_type": "code",
   "execution_count": null,
   "id": "668a7202-81df-4e35-a7a7-9b4fbd73e9a4",
   "metadata": {},
   "outputs": [],
   "source": []
  }
 ],
 "metadata": {
  "kernelspec": {
   "display_name": "Python 3 (ipykernel)",
   "language": "python",
   "name": "python3"
  },
  "language_info": {
   "codemirror_mode": {
    "name": "ipython",
    "version": 3
   },
   "file_extension": ".py",
   "mimetype": "text/x-python",
   "name": "python",
   "nbconvert_exporter": "python",
   "pygments_lexer": "ipython3",
   "version": "3.11.7"
  }
 },
 "nbformat": 4,
 "nbformat_minor": 5
}
